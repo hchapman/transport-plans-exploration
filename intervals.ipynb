{
 "cells": [
  {
   "cell_type": "markdown",
   "metadata": {},
   "source": [
    "# Transport patterns between curves\n",
    "The goal of this notebook is to visualize transport patterns between\n",
    "curves; it appears that the linear program may be the bottleneck of\n",
    "the implementation, so we're going to see if we can write a more efficient\n",
    "implementation here.\n",
    "\n",
    "First, we'll define some curves."
   ]
  },
  {
   "cell_type": "code",
   "execution_count": 502,
   "metadata": {},
   "outputs": [
    {
     "name": "stdout",
     "output_type": "stream",
     "text": [
      "The line_profiler extension is already loaded. To reload it, use:\n",
      "  %reload_ext line_profiler\n"
     ]
    }
   ],
   "source": [
    "# imports\n",
    "import numpy as np\n",
    "import numpy.linalg as la\n",
    "import scipy.optimize as op\n",
    "import seaborn as sns; sns.set()\n",
    "from matplotlib import pyplot as plt\n",
    "\n",
    "%load_ext line_profiler\n",
    "%matplotlib inline"
   ]
  },
  {
   "cell_type": "markdown",
   "metadata": {},
   "source": [
    "## Define (and plot) the line segments"
   ]
  },
  {
   "cell_type": "code",
   "execution_count": 579,
   "metadata": {},
   "outputs": [
    {
     "data": {
      "image/png": "[encoded data removed]",
      "text/plain": [
       "<Figure size 432x288 with 1 Axes>"
      ]
     },
     "metadata": {},
     "output_type": "display_data"
    }
   ],
   "source": [
    "def line_segment(start, vec, seglen, n_pts):\n",
    "    p0 = np.array(start)\n",
    "    v = np.array(vec)\n",
    "    v = v / la.norm(v) * seglen / n_pts\n",
    "    return np.array([p0+k*v for k in range(n_pts+1)])\n",
    "\n",
    "def random_uniform_direction():\n",
    "    theta = np.random.uniform(0, 2*np.pi)\n",
    "    return [np.cos(theta), np.sin(theta)]\n",
    "\n",
    "N_DIV = 30\n",
    "N_CURVE = 3\n",
    "RMAX = 2.\n",
    "curves = [\n",
    "    line_segment(np.random.uniform(0, RMAX, size=2), \n",
    "                 random_uniform_direction(), 1, N_DIV-1),\n",
    "    line_segment(np.random.uniform(0, RMAX, size=2), \n",
    "                 random_uniform_direction(), 1, N_DIV-1),\n",
    "    line_segment(np.random.uniform(0, RMAX, size=2), \n",
    "                 random_uniform_direction(), 1, N_DIV-1)\n",
    "]\n",
    "curves = [\n",
    "    line_segment((0,1), \n",
    "                 (0.001,1), 1, N_DIV-1),\n",
    "    line_segment((1,0), \n",
    "                 (1,0), 1, N_DIV-1),\n",
    "    line_segment((2,3), \n",
    "                 (1,-1), 1, N_DIV-1)\n",
    "]\n",
    "\n",
    "for curve in curves:\n",
    "    sns.lineplot(*curve.T, antialiased=True)\n",
    "    #sns.scatterplot(*curve.T, antialiased=True)\n",
    "plt.show()"
   ]
  },
  {
   "cell_type": "markdown",
   "metadata": {},
   "source": [
    "## Geometric median function"
   ]
  },
  {
   "cell_type": "code",
   "execution_count": 580,
   "metadata": {},
   "outputs": [],
   "source": [
    "# Geometric median\n",
    "import numpy as np\n",
    "from scipy.spatial.distance import cdist, euclidean\n",
    "import numpy.linalg as la\n",
    "\n",
    "def geometric_median(X, eps=1e-5, max_iter=1000):\n",
    "    y = np.mean(X, 0)\n",
    "\n",
    "    for _ in range(max_iter):\n",
    "        D = cdist(X, [y])\n",
    "        nonzeros = (D != 0)[:, 0]\n",
    "\n",
    "        Dinv = 1 / D[nonzeros]\n",
    "        Dinvs = np.sum(Dinv)\n",
    "        W = Dinv / Dinvs\n",
    "        T = np.sum(W * X[nonzeros], 0)\n",
    "\n",
    "        num_zeros = len(X) - np.sum(nonzeros)\n",
    "        if num_zeros == 0:\n",
    "            y1 = T\n",
    "        elif num_zeros == len(X):\n",
    "            return y\n",
    "        else:\n",
    "            R = (T - y) * Dinvs\n",
    "            r = np.linalg.norm(R)\n",
    "            rinv = 0 if r == 0 else num_zeros/r\n",
    "            y1 = max(0, 1-rinv)*T + min(1, rinv)*y\n",
    "\n",
    "        if euclidean(y, y1) < eps:\n",
    "            return y1\n",
    "\n",
    "        y = y1\n",
    "    return y\n",
    "\n",
    "th60 = np.radians(60)\n",
    "c60, s60 = np.cos(th60), np.sin(th60)\n",
    "rot60 = np.array([[c60,-s60],[s60,c60]])\n",
    "rotN60 = np.array([[c60,s60],[-s60,c60]])\n",
    "\n",
    "def get_intersect(a1, a2, b1, b2):\n",
    "    \"\"\" \n",
    "    Returns the point of intersection of the lines passing through a2,a1 and b2,b1.\n",
    "    a1: [x, y] a point on the first line\n",
    "    a2: [x, y] another point on the first line\n",
    "    b1: [x, y] a point on the second line\n",
    "    b2: [x, y] another point on the second line\n",
    "    \"\"\"\n",
    "    s = np.vstack([a1,a2,b1,b2])        # s for stacked\n",
    "    h = np.hstack((s, np.ones((4, 1)))) # h for homogeneous\n",
    "    l1 = np.cross(h[0], h[1])           # get first line\n",
    "    l2 = np.cross(h[2], h[3])           # get second line\n",
    "    x, y, z = np.cross(l1, l2)          # point of intersection\n",
    "    if z == 0:                          # lines are parallel\n",
    "        return (float('inf'), float('inf'))\n",
    "    return (x/z, y/z)\n",
    "\n",
    "def get_intersect_many(s):\n",
    "    \"\"\" \n",
    "    Returns the point of intersection of the lines passing through a2,a1 and b2,b1.\n",
    "    a1: [x, y] a point on the first line\n",
    "    a2: [x, y] another point on the first line\n",
    "    b1: [x, y] a point on the second line\n",
    "    b2: [x, y] another point on the second line\n",
    "    \"\"\"\n",
    "    #s = np.vstack([a1,a2,b1,b2])        # s for stacked\n",
    "    #print(s.shape)\n",
    "    h = np.concatenate((s, np.ones((s.shape[0], 4, 1))), axis=2) # h for homogeneous\n",
    "    #print(h.shape)\n",
    "    \n",
    "    l1 = np.cross(h[:,0], h[:,1])           # get first line\n",
    "    l2 = np.cross(h[:,2], h[:,3])           # get second line\n",
    "    x, y, z = np.cross(l1, l2).T          # point of intersection\n",
    "#    if z == 0:                          # lines are parallel\n",
    "#        return (float('inf'), float('inf'))\n",
    "    \n",
    "    return np.array((x/z, y/z))\n",
    "\n",
    "def geometric_median_3(X, **kwargs):\n",
    "    \"\"\"Use geometry to compute fast explicit GM of 3 points\"\"\"\n",
    "    A,B,C = X\n",
    "    \n",
    "    ABvec = B-A\n",
    "    ACvec = C-A\n",
    "    if (np.arctan2(ACvec[1], ACvec[0]) - np.arctan2(ABvec[1], ABvec[0])) > 0:\n",
    "        B,C = C,B\n",
    "        ABvec = B-A\n",
    "        ACvec = C-A\n",
    "    \n",
    "    ARvec = rot60 @ ABvec\n",
    "    R = X[0]+ARvec\n",
    "    \n",
    "    AQvec = rotN60 @ ACvec\n",
    "    Q = X[0]+AQvec\n",
    "    \n",
    "    P = get_intersect(R,X[2],Q,X[1])\n",
    "    \n",
    "    S = [A,B,C,P]\n",
    "    d = [sum(la.norm(z-fp) for z in X) for fp in S]\n",
    "    \n",
    "    return S[np.argmin(d)]\n",
    "    "
   ]
  },
  {
   "cell_type": "markdown",
   "metadata": {},
   "source": [
    "## Set up the linear program"
   ]
  },
  {
   "cell_type": "code",
   "execution_count": 581,
   "metadata": {},
   "outputs": [],
   "source": [
    "#%%timeit\n",
    "\n",
    "N = len(curves[0])\n",
    "\n",
    "ABmtx = np.zeros([N,N,2])\n",
    "import itertools\n",
    "\n",
    "for (ai, a), (bi, b) in itertools.product(enumerate(curves[0]), enumerate(curves[1])):\n",
    "    ABmtx[ai,bi,:] = b-a\n",
    "    \n",
    "ARmtx = np.tensordot(ABmtx, rot60, (2,1))\n",
    "\n",
    "ACmtx = np.zeros([N,N,2])\n",
    "\n",
    "for (ai, a), (ci, c) in itertools.product(enumerate(curves[0]), enumerate(curves[2])):\n",
    "    ACmtx[ai,ci,:] = c-a\n",
    "    \n",
    "AQmtx = np.tensordot(ACmtx, rotN60, (2,1))\n",
    "\n",
    "Betamtx = np.arctan2(ACmtx[:,:,1],ACmtx[:,:,0])\n",
    "Gammamtx = np.arctan2(ABmtx[:,:,1],ABmtx[:,:,0])"
   ]
  },
  {
   "cell_type": "code",
   "execution_count": 731,
   "metadata": {},
   "outputs": [],
   "source": [
    "#%%timeit\n",
    "\n",
    "import math, itertools\n",
    "\n",
    "def f():\n",
    "# Specific 3-group case\n",
    "    groups = []\n",
    "    \n",
    "    for i0, A in enumerate(curves[0]):    \n",
    "        #batch = np.zeros((len(curves[1])*len(curves[2]), 4, 2))\n",
    "        batch = []\n",
    "        index = []\n",
    "        \n",
    "        # matrix of angles\n",
    "        phimtx = Betamtx[i0,:] - Gammamtx[i0,:,np.newaxis]\n",
    "        pmamtx = (1.*(phimtx < 0))[:,:,np.newaxis]\n",
    "        \n",
    "        AR = np.broadcast_to(ARmtx[i0,:,np.newaxis], (30,30,2))\n",
    "        AQ = np.broadcast_to(AQmtx[i0,np.newaxis], (30,30,2))\n",
    "        \n",
    "        AA = np.broadcast_to(A, (30,30,2))\n",
    "        BB = np.broadcast_to(curves[1][:,np.newaxis], (30,30,2))\n",
    "        CC = np.broadcast_to(curves[2][np.newaxis], (30,30,2))\n",
    "        \n",
    "        #AR = (\n",
    "        #    ((A + ARmtx[i0,:])[np.newaxis] + np.ones((len(curves[2]),1,2))) * pmamtx[:,:,np.newaxis] +\n",
    "        #    ((curves[1] + ARmtx[i0,:])[np.newaxis] + np.ones((len(curves[2]),1,2))) * (1-pmamtx)[:,:,np.newaxis]\n",
    "        #)\n",
    "        \n",
    "        RR = (AA+AR)*pmamtx + (BB-AR)*(1-pmamtx)\n",
    "        QQ = (AA+AQ)*pmamtx + (CC-AQ)*(1-pmamtx)\n",
    "\n",
    "        K = len(curves[0])\n",
    "        \n",
    "        index = itertools.product(range(K), range(K))\n",
    "                \n",
    "        Batch = np.stack([RR,CC,QQ,BB], axis=2)\n",
    "        batch = np.reshape(Batch, (K*K,4,2))\n",
    "                \n",
    "        #batch = np.array(batch)\n",
    "        Pvec = get_intersect_many(batch).T\n",
    "            \n",
    "        Sb = np.zeros((batch.shape[0], 4, 2))\n",
    "        Sb[:,0] = A\n",
    "        Sb[:,1] = batch[:,3]\n",
    "        Sb[:,2] = batch[:,1]\n",
    "        Sb[:,3] = Pvec\n",
    "\n",
    "        Zb = Sb[:,0:3,:]\n",
    "\n",
    "        Evec = np.sum(\n",
    "            la.norm(Sb[:,:,np.newaxis]-Zb[:,np.newaxis], axis=-1),\n",
    "            axis=2\n",
    "        )\n",
    "        #print(Evec)\n",
    "\n",
    "        minvec = np.argmin(Evec, axis=1)\n",
    "\n",
    "        for (i1,i2), (R,C,Q,B), P, S, energy, m_i in (zip(index, batch, Pvec, Sb, Evec, minvec)):\n",
    "            groups.append({\n",
    "                'index': [i0, i1, i2],\n",
    "                #'points': np.array([A,B,C]),\n",
    "                'median': S[m_i],\n",
    "                'energy': energy[m_i],\n",
    "            })\n",
    "\n",
    "    return groups\n"
   ]
  },
  {
   "cell_type": "code",
   "execution_count": 732,
   "metadata": {},
   "outputs": [
    {
     "data": {
      "text/plain": [
       "array([[2.        , 3.        ],\n",
       "       [2.02438299, 2.97561701],\n",
       "       [2.04876598, 2.95123402],\n",
       "       [2.07314898, 2.92685102],\n",
       "       [2.09753197, 2.90246803],\n",
       "       [2.12191496, 2.87808504],\n",
       "       [2.14629795, 2.85370205],\n",
       "       [2.17068095, 2.82931905],\n",
       "       [2.19506394, 2.80493606],\n",
       "       [2.21944693, 2.78055307],\n",
       "       [2.24382992, 2.75617008],\n",
       "       [2.26821292, 2.73178708],\n",
       "       [2.29259591, 2.70740409],\n",
       "       [2.3169789 , 2.6830211 ],\n",
       "       [2.34136189, 2.65863811],\n",
       "       [2.36574489, 2.63425511],\n",
       "       [2.39012788, 2.60987212],\n",
       "       [2.41451087, 2.58548913],\n",
       "       [2.43889386, 2.56110614],\n",
       "       [2.46327686, 2.53672314],\n",
       "       [2.48765985, 2.51234015],\n",
       "       [2.51204284, 2.48795716],\n",
       "       [2.53642583, 2.46357417],\n",
       "       [2.56080883, 2.43919117],\n",
       "       [2.58519182, 2.41480818],\n",
       "       [2.60957481, 2.39042519],\n",
       "       [2.6339578 , 2.3660422 ],\n",
       "       [2.6583408 , 2.3416592 ],\n",
       "       [2.68272379, 2.31727621],\n",
       "       [2.70710678, 2.29289322]])"
      ]
     },
     "execution_count": 732,
     "metadata": {},
     "output_type": "execute_result"
    }
   ],
   "source": [
    "np.broadcast_to(ARmtx[0,:,np.newaxis], (30,30,2))\n",
    "np.broadcast_to(AQmtx[0,np.newaxis], (30,30,2))[0,:]\n",
    "np.broadcast_to(curves[2][np.newaxis], (30,30,2))[0,:]"
   ]
  },
  {
   "cell_type": "code",
   "execution_count": 733,
   "metadata": {},
   "outputs": [],
   "source": [
    "mask = np.array([0,0,1,0])\n",
    "c = np.array([4,4,4,4])"
   ]
  },
  {
   "cell_type": "code",
   "execution_count": 734,
   "metadata": {},
   "outputs": [
    {
     "data": {
      "text/plain": [
       "Timer unit: 1e-06 s\n",
       "\n",
       "Total time: 0.059161 s\n",
       "File: <ipython-input-580-6f5d99771b0b>\n",
       "Function: get_intersect_many at line 57\n",
       "\n",
       "Line #      Hits         Time  Per Hit   % Time  Line Contents\n",
       "==============================================================\n",
       "    57                                           def get_intersect_many(s):\n",
       "    58                                               \"\"\" \n",
       "    59                                               Returns the point of intersection of the lines passing through a2,a1 and b2,b1.\n",
       "    60                                               a1: [x, y] a point on the first line\n",
       "    61                                               a2: [x, y] another point on the first line\n",
       "    62                                               b1: [x, y] a point on the second line\n",
       "    63                                               b2: [x, y] another point on the second line\n",
       "    64                                               \"\"\"\n",
       "    65                                               #s = np.vstack([a1,a2,b1,b2])        # s for stacked\n",
       "    66                                               #print(s.shape)\n",
       "    67        30       3119.0    104.0      5.3      h = np.concatenate((s, np.ones((s.shape[0], 4, 1))), axis=2) # h for homogeneous\n",
       "    68                                               #print(h.shape)\n",
       "    69                                               \n",
       "    70        30      19980.0    666.0     33.8      l1 = np.cross(h[:,0], h[:,1])           # get first line\n",
       "    71        30      17299.0    576.6     29.2      l2 = np.cross(h[:,2], h[:,3])           # get second line\n",
       "    72        30      16232.0    541.1     27.4      x, y, z = np.cross(l1, l2).T          # point of intersection\n",
       "    73                                           #    if z == 0:                          # lines are parallel\n",
       "    74                                           #        return (float('inf'), float('inf'))\n",
       "    75                                               \n",
       "    76        30       2531.0     84.4      4.3      return np.array((x/z, y/z))\n",
       "\n",
       "Total time: 1.81969 s\n",
       "File: <ipython-input-731-460d9bf6b3cf>\n",
       "Function: f at line 5\n",
       "\n",
       "Line #      Hits         Time  Per Hit   % Time  Line Contents\n",
       "==============================================================\n",
       "     5                                           def f():\n",
       "     6                                           # Specific 3-group case\n",
       "     7         1          6.0      6.0      0.0      groups = []\n",
       "     8                                               \n",
       "     9        31        258.0      8.3      0.0      for i0, A in enumerate(curves[0]):    \n",
       "    10                                                   #batch = np.zeros((len(curves[1])*len(curves[2]), 4, 2))\n",
       "    11        30        176.0      5.9      0.0          batch = []\n",
       "    12        30        189.0      6.3      0.0          index = []\n",
       "    13                                                   \n",
       "    14                                                   # matrix of angles\n",
       "    15        30       2258.0     75.3      0.1          phimtx = Betamtx[i0,:] - Gammamtx[i0,:,np.newaxis]\n",
       "    16        30       1985.0     66.2      0.1          pmamtx = (1.*(phimtx < 0))[:,:,np.newaxis]\n",
       "    17                                                   \n",
       "    18        30       3897.0    129.9      0.2          AR = np.broadcast_to(ARmtx[i0,:,np.newaxis], (30,30,2))\n",
       "    19        30       2138.0     71.3      0.1          AQ = np.broadcast_to(AQmtx[i0,np.newaxis], (30,30,2))\n",
       "    20                                                   \n",
       "    21        30       2199.0     73.3      0.1          AA = np.broadcast_to(A, (30,30,2))\n",
       "    22        30       2269.0     75.6      0.1          BB = np.broadcast_to(curves[1][:,np.newaxis], (30,30,2))\n",
       "    23        30       3882.0    129.4      0.2          CC = np.broadcast_to(curves[2][np.newaxis], (30,30,2))\n",
       "    24                                                   \n",
       "    25                                                   #AR = (\n",
       "    26                                                   #    ((A + ARmtx[i0,:])[np.newaxis] + np.ones((len(curves[2]),1,2))) * pmamtx[:,:,np.newaxis] +\n",
       "    27                                                   #    ((curves[1] + ARmtx[i0,:])[np.newaxis] + np.ones((len(curves[2]),1,2))) * (1-pmamtx)[:,:,np.newaxis]\n",
       "    28                                                   #)\n",
       "    29                                                   \n",
       "    30        30       6262.0    208.7      0.3          RR = (AA+AR)*pmamtx + (BB-AR)*(1-pmamtx)\n",
       "    31        30       4431.0    147.7      0.2          QQ = (AA+AQ)*pmamtx + (CC-AQ)*(1-pmamtx)\n",
       "    32                                           \n",
       "    33        30        240.0      8.0      0.0          K = len(curves[0])\n",
       "    34                                                   \n",
       "    35        30        566.0     18.9      0.0          index = itertools.product(range(K), range(K))\n",
       "    36                                                           \n",
       "    37        30       5159.0    172.0      0.3          Batch = np.stack([RR,CC,QQ,BB], axis=2)\n",
       "    38        30        928.0     30.9      0.1          batch = np.reshape(Batch, (K*K,4,2))\n",
       "    39                                                           \n",
       "    40                                                   #batch = np.array(batch)\n",
       "    41        30      60501.0   2016.7      3.3          Pvec = get_intersect_many(batch).T\n",
       "    42                                                       \n",
       "    43        30        748.0     24.9      0.0          Sb = np.zeros((batch.shape[0], 4, 2))\n",
       "    44        30        770.0     25.7      0.0          Sb[:,0] = A\n",
       "    45        30        872.0     29.1      0.0          Sb[:,1] = batch[:,3]\n",
       "    46        30        721.0     24.0      0.0          Sb[:,2] = batch[:,1]\n",
       "    47        30        718.0     23.9      0.0          Sb[:,3] = Pvec\n",
       "    48                                           \n",
       "    49        30        336.0     11.2      0.0          Zb = Sb[:,0:3,:]\n",
       "    50                                           \n",
       "    51        30        180.0      6.0      0.0          Evec = np.sum(\n",
       "    52        30      33823.0   1127.4      1.9              la.norm(Sb[:,:,np.newaxis]-Zb[:,np.newaxis], axis=-1),\n",
       "    53        30       6898.0    229.9      0.4              axis=2\n",
       "    54                                                   )\n",
       "    55                                                   #print(Evec)\n",
       "    56                                           \n",
       "    57        30       1486.0     49.5      0.1          minvec = np.argmin(Evec, axis=1)\n",
       "    58                                           \n",
       "    59     27030     989929.0     36.6     54.4          for (i1,i2), (R,C,Q,B), P, S, energy, m_i in (zip(index, batch, Pvec, Sb, Evec, minvec)):\n",
       "    60     27000     144140.0      5.3      7.9              groups.append({\n",
       "    61     27000     132059.0      4.9      7.3                  'index': [i0, i1, i2],\n",
       "    62                                                           #'points': np.array([A,B,C]),\n",
       "    63     27000     191758.0      7.1     10.5                  'median': S[m_i],\n",
       "    64     27000     217907.0      8.1     12.0                  'energy': energy[m_i],\n",
       "    65                                                       })\n",
       "    66                                           \n",
       "    67         1          5.0      5.0      0.0      return groups"
      ]
     },
     "metadata": {},
     "output_type": "display_data"
    }
   ],
   "source": [
    "%lprun -f f -f get_intersect_many groups=f()"
   ]
  },
  {
   "cell_type": "markdown",
   "metadata": {},
   "source": [
    "Initial implementation runtime was\n",
    "\n",
    "     11.7 s ± 107 ms per loop (mean ± std. dev. of 7 runs, 1 loop each)\n",
    "     \n",
    "After adding a few preprocess steps new time is...\n",
    "\n",
    "     11.6 s ± 50.2 ms per loop (mean ± std. dev. of 7 runs, 1 loop each)\n",
    "     \n",
    "No on-the-fly arctan gives...\n",
    "\n",
    "     11.3 s ± 66.2 ms per loop (mean ± std. dev. of 7 runs, 1 loop each)\n",
    "     \n",
    "Preprocess rotate gives...\n",
    "\n",
    "     11.2 s ± 116 ms per loop (mean ± std. dev. of 7 runs, 1 loop each)\n",
    "     \n"
   ]
  },
  {
   "cell_type": "code",
   "execution_count": 735,
   "metadata": {},
   "outputs": [],
   "source": [
    "medians = np.array([g['median'] for g in groups])"
   ]
  },
  {
   "cell_type": "code",
   "execution_count": 736,
   "metadata": {},
   "outputs": [],
   "source": [
    "#pd.DataFrame(groups)"
   ]
  },
  {
   "cell_type": "markdown",
   "metadata": {},
   "source": [
    "We now move on to setting up (and solving) the linear program proper. Scipy's linprog uses the following form for linear programs. We are solving for \\\\(x\\\\) which minimizes\n",
    "\\\\[ c^T x \\\\]\n",
    "while satisfying the constraints\n",
    "\\\\[ A_{ub} x \\le b_{ub}, \\quad A_{eq} x = b_{eq}, \\quad l \\le x \\le u \\\\]\n",
    "\n",
    "In our case, the cost we're minimizing is the linear combination of total median distances"
   ]
  },
  {
   "cell_type": "code",
   "execution_count": 737,
   "metadata": {},
   "outputs": [],
   "source": [
    "# group energies (c-vector)\n",
    "energies = np.array([g['energy'] for g in groups])"
   ]
  },
  {
   "cell_type": "code",
   "execution_count": null,
   "metadata": {},
   "outputs": [],
   "source": [
    "def _idxs(index):\n",
    "    return [i*N_DIV+j for i,j in enumerate(index)]\n",
    "\n",
    "import scipy.sparse as sparse\n",
    "\n",
    "# equality constraints\n",
    "A_eq = sparse.dok_matrix((N_DIV*N_CURVE, len(energies)))\n",
    "for i,g in enumerate(groups):\n",
    "    A_eq[_idxs(g['index']), i] = 1.\n",
    "    \n",
    "# transport quantities are all 1 for uniform problem\n",
    "b_eq = np.ones(A_eq.shape[0])"
   ]
  },
  {
   "cell_type": "code",
   "execution_count": null,
   "metadata": {},
   "outputs": [],
   "source": [
    "A_eq.shape"
   ]
  },
  {
   "cell_type": "code",
   "execution_count": null,
   "metadata": {},
   "outputs": [],
   "source": [
    "from scipy.optimize import linprog\n",
    "soln = linprog(energies, A_eq=A_eq, b_eq=b_eq, method='interior-point')"
   ]
  },
  {
   "cell_type": "code",
   "execution_count": null,
   "metadata": {},
   "outputs": [],
   "source": [
    "import pandas as pd\n",
    "solution = pd.DataFrame([\n",
    "    {'weight': x, \n",
    "     'median_x': group['median'][0], \n",
    "     'median_y': group['median'][1],\n",
    "     't_0': group['index'][0],\n",
    "     't_1': group['index'][1],\n",
    "     't_2': group['index'][2]} for \n",
    "    x,group in zip(soln['x'], groups)])\n",
    "\n",
    "print(len(solution[solution['weight'] > 0.001]), \"median points\")\n",
    "solution[solution['weight'] > 0.001].sort_values('t_2')"
   ]
  },
  {
   "cell_type": "code",
   "execution_count": null,
   "metadata": {},
   "outputs": [],
   "source": [
    "for curve in curves:\n",
    "    sns.lineplot(*curve.T, antialiased=True)\n",
    "    #sns.scatterplot(*curve.T, antialiased=True)\n",
    "    \n",
    "g = sns.scatterplot(data=solution[solution['weight'] > 1e-3], \n",
    "                x='median_x', y='median_y',\n",
    "                hue='t_2', size='weight', size_norm=(0,1))\n",
    "g.legend(loc='center left', bbox_to_anchor=(1.25, 0.5), ncol=1)"
   ]
  },
  {
   "cell_type": "code",
   "execution_count": null,
   "metadata": {},
   "outputs": [],
   "source": [
    "for curve in curves:\n",
    "    sns.lineplot(*curve.T, antialiased=True)\n",
    "    #sns.scatterplot(*curve.T, antialiased=True)\n",
    "    \n",
    "g = sns.scatterplot(data=solution, \n",
    "                x='median_x', y='median_y',\n",
    "                hue='t_2')\n",
    "g.legend(loc='center left', bbox_to_anchor=(1.25, 0.5), ncol=1)"
   ]
  },
  {
   "cell_type": "code",
   "execution_count": 555,
   "metadata": {},
   "outputs": [
    {
     "data": {
      "image/png": "[encoded data removed]",
      "text/plain": [
       "<Figure size 432x288 with 1 Axes>"
      ]
     },
     "metadata": {},
     "output_type": "display_data"
    },
    {
     "data": {
      "image/png": "[encoded data removed]",
      "text/plain": [
       "<Figure size 432x288 with 1 Axes>"
      ]
     },
     "metadata": {},
     "output_type": "display_data"
    },
    {
     "data": {
      "image/png": "[encoded data removed]",
      "text/plain": [
       "<Figure size 432x288 with 1 Axes>"
      ]
     },
     "metadata": {},
     "output_type": "display_data"
    }
   ],
   "source": [
    "import itertools\n",
    "\n",
    "sets = ['t_0', 't_1', 't_2']\n",
    "\n",
    "for x,y,z in [['t_0', 't_1', 't_2'], ['t_0', 't_2', 't_1'], ['t_1', 't_2', 't_0']]:\n",
    "    sns.scatterplot(data=solution[solution['weight'] > 1e-3], x=x, y=y, hue=z)\n",
    "    plt.show()"
   ]
  },
  {
   "cell_type": "code",
   "execution_count": 556,
   "metadata": {},
   "outputs": [
    {
     "data": {
      "image/png": "[encoded data removed]",
      "text/plain": [
       "<Figure size 432x288 with 1 Axes>"
      ]
     },
     "metadata": {},
     "output_type": "display_data"
    }
   ],
   "source": [
    "from mpl_toolkits.mplot3d import Axes3D\n",
    "\n",
    "fig = plt.figure()\n",
    "ax = fig.add_subplot(111, projection='3d')\n",
    "\n",
    "psol = solution[solution['weight'] > 1e-3]\n",
    "ax.scatter(psol['t_0'], psol['t_1'], psol['t_2'])\n",
    "\n",
    "fig.show()"
   ]
  },
  {
   "cell_type": "code",
   "execution_count": null,
   "metadata": {},
   "outputs": [],
   "source": []
  }
 ],
 "metadata": {
  "kernelspec": {
   "display_name": "Python 3",
   "language": "python",
   "name": "python3"
  },
  "language_info": {
   "codemirror_mode": {
    "name": "ipython",
    "version": 3
   },
   "file_extension": ".py",
   "mimetype": "text/x-python",
   "name": "python",
   "nbconvert_exporter": "python",
   "pygments_lexer": "ipython3",
   "version": "3.6.8"
  }
 },
 "nbformat": 4,
 "nbformat_minor": 2
}
